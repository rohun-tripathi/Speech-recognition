{
 "cells": [
  {
   "cell_type": "code",
   "execution_count": 2,
   "metadata": {
    "collapsed": true
   },
   "outputs": [],
   "source": [
    "import os"
   ]
  },
  {
   "cell_type": "code",
   "execution_count": 3,
   "metadata": {
    "collapsed": true
   },
   "outputs": [],
   "source": [
    "os.chdir(\"v3_2/\")"
   ]
  },
  {
   "cell_type": "code",
   "execution_count": 8,
   "metadata": {
    "collapsed": true
   },
   "outputs": [],
   "source": [
    "count=1;\n",
    "\n",
    "import json\n",
    "\n",
    "dict_list = json.load(open(\"gt_data/gt3b.json\", \"r\"))\n",
    "dict_3b = {}\n",
    "\n",
    "for entry in dict_list:\n",
    "    dict_3b[entry[\"audio\"]] = entry[\"gt\"]\n",
    "\n",
    "with open(\"filelisting_gt.csv\", \"w\", newline = \"\") as a:\n",
    "    for path, subdirs, files in os.walk(r'.'):\n",
    "        for filename in files:\n",
    "            \n",
    "            if filename not in dict_3b:\n",
    "                continue\n",
    "            \n",
    "            if('.wav' in filename or '.mp3' in filename):\n",
    "                f = os.path.join(path, filename)\n",
    "                a.write(str(count) + ',' + str(f) + ',' + filename + ',' + str(dict_3b[filename]) + ',' + os.linesep)\n",
    "                count = count + 1;"
   ]
  },
  {
   "cell_type": "code",
   "execution_count": 11,
   "metadata": {
    "collapsed": true
   },
   "outputs": [],
   "source": [
    "count=1;\n",
    "with open(\"filelisting_Pratyush.csv\", \"w\", newline = \"\") as a:\n",
    "    for path, subdirs, files in os.walk(r'.'):\n",
    "        for filename in files:\n",
    "            if('.wav' in filename or '.mp3' in filename):\n",
    "                f = os.path.join(path, filename)\n",
    "                a.write(str(count) + ',' + str(f) + ',' + os.linesep)\n",
    "                count = count + 1;"
   ]
  },
  {
   "cell_type": "code",
   "execution_count": 12,
   "metadata": {
    "collapsed": true
   },
   "outputs": [],
   "source": [
    "count=1;\n",
    "with open(\"filelisting_Mohit.csv\", \"w\", newline = \"\") as a:\n",
    "    for path, subdirs, files in os.walk(r'.'):\n",
    "        for filename in files:\n",
    "            if('.wav' in filename or '.mp3' in filename):\n",
    "                f = os.path.join(path, filename)\n",
    "                a.write(str(count) + ',' + str(f) + ',' + os.linesep)\n",
    "                count = count + 1;"
   ]
  },
  {
   "cell_type": "code",
   "execution_count": 13,
   "metadata": {
    "collapsed": true
   },
   "outputs": [],
   "source": [
    "count=1;\n",
    "with open(\"filelisting_Rohun.csv\", \"w\", newline = \"\") as a:\n",
    "    for path, subdirs, files in os.walk(r'.'):\n",
    "        for filename in files:\n",
    "            if('.wav' in filename or '.mp3' in filename):\n",
    "                f = os.path.join(path, filename)\n",
    "                a.write(str(count) + ',' + str(f) + ',' + os.linesep)\n",
    "                count = count + 1;"
   ]
  }
 ],
 "metadata": {
  "anaconda-cloud": {},
  "kernelspec": {
   "display_name": "Python 3",
   "language": "python",
   "name": "python3"
  },
  "language_info": {
   "codemirror_mode": {
    "name": "ipython",
    "version": 3
   },
   "file_extension": ".py",
   "mimetype": "text/x-python",
   "name": "python",
   "nbconvert_exporter": "python",
   "pygments_lexer": "ipython3",
   "version": "3.6.1"
  }
 },
 "nbformat": 4,
 "nbformat_minor": 2
}
