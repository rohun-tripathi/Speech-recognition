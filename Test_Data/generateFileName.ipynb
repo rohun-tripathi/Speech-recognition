{
 "cells": [
  {
   "cell_type": "code",
   "execution_count": 8,
   "metadata": {
    "collapsed": false
   },
   "outputs": [],
   "source": [
    "import os"
   ]
  },
  {
   "cell_type": "code",
   "execution_count": 14,
   "metadata": {
    "collapsed": false
   },
   "outputs": [
    {
     "ename": "FileNotFoundError",
     "evalue": "[WinError 2] The system cannot find the file specified: 'v3_2\\\\'",
     "output_type": "error",
     "traceback": [
      "\u001b[1;31m---------------------------------------------------------------------------\u001b[0m",
      "\u001b[1;31mFileNotFoundError\u001b[0m                         Traceback (most recent call last)",
      "\u001b[1;32m<ipython-input-14-6a98b07f9954>\u001b[0m in \u001b[0;36m<module>\u001b[1;34m()\u001b[0m\n\u001b[1;32m----> 1\u001b[1;33m \u001b[0mos\u001b[0m\u001b[1;33m.\u001b[0m\u001b[0mchdir\u001b[0m\u001b[1;33m(\u001b[0m\u001b[1;34m\"v3_2\\\\\"\u001b[0m\u001b[1;33m)\u001b[0m\u001b[1;33m\u001b[0m\u001b[0m\n\u001b[0m",
      "\u001b[1;31mFileNotFoundError\u001b[0m: [WinError 2] The system cannot find the file specified: 'v3_2\\\\'"
     ]
    }
   ],
   "source": [
    "os.chdir(\"v3_2\\\\\")"
   ]
  },
  {
   "cell_type": "code",
   "execution_count": 11,
   "metadata": {
    "collapsed": false
   },
   "outputs": [],
   "source": [
    "count=1;\n",
    "with open(\"filelisting_Pratyush.csv\", \"w\", newline = \"\") as a:\n",
    "    for path, subdirs, files in os.walk(r'.'):\n",
    "        for filename in files:\n",
    "            if('.wav' in filename or '.mp3' in filename):\n",
    "                f = os.path.join(path, filename)\n",
    "                a.write(str(count) + ',' + str(f) + ',' + os.linesep)\n",
    "                count = count + 1;"
   ]
  },
  {
   "cell_type": "code",
   "execution_count": 12,
   "metadata": {
    "collapsed": true
   },
   "outputs": [],
   "source": [
    "count=1;\n",
    "with open(\"filelisting_Mohit.csv\", \"w\", newline = \"\") as a:\n",
    "    for path, subdirs, files in os.walk(r'.'):\n",
    "        for filename in files:\n",
    "            if('.wav' in filename or '.mp3' in filename):\n",
    "                f = os.path.join(path, filename)\n",
    "                a.write(str(count) + ',' + str(f) + ',' + os.linesep)\n",
    "                count = count + 1;"
   ]
  },
  {
   "cell_type": "code",
   "execution_count": 13,
   "metadata": {
    "collapsed": true
   },
   "outputs": [],
   "source": [
    "count=1;\n",
    "with open(\"filelisting_Rohun.csv\", \"w\", newline = \"\") as a:\n",
    "    for path, subdirs, files in os.walk(r'.'):\n",
    "        for filename in files:\n",
    "            if('.wav' in filename or '.mp3' in filename):\n",
    "                f = os.path.join(path, filename)\n",
    "                a.write(str(count) + ',' + str(f) + ',' + os.linesep)\n",
    "                count = count + 1;"
   ]
  }
 ],
 "metadata": {
  "anaconda-cloud": {},
  "kernelspec": {
   "display_name": "Python 3",
   "language": "python",
   "name": "python3"
  },
  "language_info": {
   "codemirror_mode": {
    "name": "ipython",
    "version": 3
   },
   "file_extension": ".py",
   "mimetype": "text/x-python",
   "name": "python",
   "nbconvert_exporter": "python",
   "pygments_lexer": "ipython3",
   "version": "3.5.3"
  }
 },
 "nbformat": 4,
 "nbformat_minor": 2
}
