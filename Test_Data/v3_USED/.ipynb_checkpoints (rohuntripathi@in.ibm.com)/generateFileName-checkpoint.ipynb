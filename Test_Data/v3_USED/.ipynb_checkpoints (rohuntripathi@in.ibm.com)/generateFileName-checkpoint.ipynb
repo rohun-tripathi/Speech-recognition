{
 "cells": [
  {
   "cell_type": "code",
   "execution_count": 1,
   "metadata": {
    "collapsed": true
   },
   "outputs": [],
   "source": [
    "import os"
   ]
  },
  {
   "cell_type": "code",
   "execution_count": 6,
   "metadata": {
    "collapsed": false
   },
   "outputs": [],
   "source": [
    "count=1;\n",
    "with open(\"filelisting_Pratyush.csv\", \"w\") as a:\n",
    "    for path, subdirs, files in os.walk(r'.'):\n",
    "        for filename in files:\n",
    "            if('.wav' in filename or '.mp3' in filename):\n",
    "                f = os.path.join(path, filename)\n",
    "                a.write(str(count) + ',' + str(f) + ',' + os.linesep)\n",
    "                count = count + 1;"
   ]
  },
  {
   "cell_type": "code",
   "execution_count": 7,
   "metadata": {
    "collapsed": true
   },
   "outputs": [],
   "source": [
    "count=1;\n",
    "with open(\"filelisting_Mohit.csv\", \"w\") as a:\n",
    "    for path, subdirs, files in os.walk(r'.'):\n",
    "        for filename in files:\n",
    "            if('.wav' in filename or '.mp3' in filename):\n",
    "                f = os.path.join(path, filename)\n",
    "                a.write(str(count) + ',' + str(f) + ',' + os.linesep)\n",
    "                count = count + 1;"
   ]
  },
  {
   "cell_type": "code",
   "execution_count": 4,
   "metadata": {
    "collapsed": false
   },
   "outputs": [],
   "source": [
    "count=1;\n",
    "with open(\"filelisting_Rohun.csv\", \"w\") as a:\n",
    "    for path, subdirs, files in os.walk(r'.'):\n",
    "        for filename in files:\n",
    "            if('.wav' in filename or '.mp3' in filename):\n",
    "                f = os.path.join(path, filename)\n",
    "                a.write(str(count) + ',' + str(f) + ',' + \"\\n\")\n",
    "                count = count + 1;"
   ]
  },
  {
   "cell_type": "code",
   "execution_count": null,
   "metadata": {
    "collapsed": true
   },
   "outputs": [],
   "source": []
  }
 ],
 "metadata": {
  "kernelspec": {
   "display_name": "Python 3",
   "language": "python",
   "name": "python3"
  },
  "language_info": {
   "codemirror_mode": {
    "name": "ipython",
    "version": 3
   },
   "file_extension": ".py",
   "mimetype": "text/x-python",
   "name": "python",
   "nbconvert_exporter": "python",
   "pygments_lexer": "ipython3",
   "version": "3.5.3"
  }
 },
 "nbformat": 4,
 "nbformat_minor": 2
}
