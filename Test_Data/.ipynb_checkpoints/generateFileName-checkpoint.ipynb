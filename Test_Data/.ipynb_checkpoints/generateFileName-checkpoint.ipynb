{
 "cells": [
  {
   "cell_type": "code",
   "execution_count": 4,
   "metadata": {
    "collapsed": false
   },
   "outputs": [],
   "source": [
    "import os\n",
    "os.chdir(\"..\\\\v3_2\\\\\")"
   ]
  },
  {
   "cell_type": "code",
   "execution_count": 5,
   "metadata": {
    "collapsed": false
   },
   "outputs": [],
   "source": [
    "count=1;\n",
    "with open(\"filelisting_Pratyush.csv\", \"w\", newline = \"\") as a:\n",
    "    for path, subdirs, files in os.walk(r'.'):\n",
    "        for filename in files:\n",
    "            if('.wav' in filename or '.mp3' in filename):\n",
    "                f = os.path.join(path, filename)\n",
    "                a.write(str(count) + ',' + str(f) + ',' + os.linesep)\n",
    "                count = count + 1;"
   ]
  },
  {
   "cell_type": "code",
   "execution_count": 3,
   "metadata": {
    "collapsed": true
   },
   "outputs": [],
   "source": [
    "count=1;\n",
    "with open(\"filelisting_Mohit.csv\", \"w\", newline = \"\") as a:\n",
    "    for path, subdirs, files in os.walk(r'.'):\n",
    "        for filename in files:\n",
    "            if('.wav' in filename or '.mp3' in filename):\n",
    "                f = os.path.join(path, filename)\n",
    "                a.write(str(count) + ',' + str(f) + ',' + os.linesep)\n",
    "                count = count + 1;"
   ]
  },
  {
   "cell_type": "code",
   "execution_count": 4,
   "metadata": {
    "collapsed": true
   },
   "outputs": [],
   "source": [
    "count=1;\n",
    "with open(\"filelisting_Rohun.csv\", \"w\", newline = \"\") as a:\n",
    "    for path, subdirs, files in os.walk(r'.'):\n",
    "        for filename in files:\n",
    "            if('.wav' in filename or '.mp3' in filename):\n",
    "                f = os.path.join(path, filename)\n",
    "                a.write(str(count) + ',' + str(f) + ',' + os.linesep)\n",
    "                count = count + 1;"
   ]
  },
  {
   "cell_type": "code",
   "execution_count": null,
   "metadata": {
    "collapsed": true
   },
   "outputs": [],
   "source": []
  }
 ],
 "metadata": {
  "anaconda-cloud": {},
  "kernelspec": {
   "display_name": "Python 3",
   "language": "python",
   "name": "python3"
  },
  "language_info": {
   "codemirror_mode": {
    "name": "ipython",
    "version": 3
   },
   "file_extension": ".py",
   "mimetype": "text/x-python",
   "name": "python",
   "nbconvert_exporter": "python",
   "pygments_lexer": "ipython3",
   "version": "3.5.3"
  }
 },
 "nbformat": 4,
 "nbformat_minor": 2
}
