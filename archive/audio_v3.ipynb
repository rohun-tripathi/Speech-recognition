{
 "cells": [
  {
   "cell_type": "code",
   "execution_count": 1,
   "metadata": {
    "collapsed": true
   },
   "outputs": [],
   "source": [
    "file_name = \"01TheBlackMuseumIntro.mp3\""
   ]
  },
  {
   "cell_type": "code",
   "execution_count": 2,
   "metadata": {
    "collapsed": true
   },
   "outputs": [],
   "source": [
    "# pip install pydub\n",
    "# pip install SpeechRecognition\n",
    "# pip install --upgrade watson-developer-cloud\n",
    "\n",
    "INPUT_FOLDER = 'data_input/';\n",
    "OUTPUT_FOLDER = 'data_output/';"
   ]
  },
  {
   "cell_type": "code",
   "execution_count": 3,
   "metadata": {
    "collapsed": false
   },
   "outputs": [
    {
     "name": "stderr",
     "output_type": "stream",
     "text": [
      "//anaconda/lib/python3.5/site-packages/pydub/utils.py:165: RuntimeWarning: Couldn't find ffmpeg or avconv - defaulting to ffmpeg, but may not work\n",
      "  warn(\"Couldn't find ffmpeg or avconv - defaulting to ffmpeg, but may not work\", RuntimeWarning)\n"
     ]
    }
   ],
   "source": [
    "from pydub import AudioSegment\n",
    "def saveToWav(file_name):\n",
    "    k = file_name.rfind(\".\"); # find the last occurrence of dot\n",
    "    audio = AudioSegment.from_file(INPUT_FOLDER+file_name, file_name[k+1:]);\n",
    "    audio.export(INPUT_FOLDER+file_name[:k]+'.wav', format='wav');\n",
    "    return file_name[:k]+'.wav'"
   ]
  },
  {
   "cell_type": "code",
   "execution_count": 4,
   "metadata": {
    "collapsed": false
   },
   "outputs": [],
   "source": [
    "# IBM Git code using python api for Watson Speech-to-text\n",
    "import json\n",
    "from os.path import join, dirname\n",
    "from watson_developer_cloud import SpeechToTextV1\n",
    "\n",
    "# Pratyush's credential\n",
    "speech_to_text = SpeechToTextV1(\n",
    "    username='13f66d27-1bb3-44a7-bbf7-014f5e60c770',\n",
    "    password='dKYgw0ZWjhae',\n",
    "    x_watson_learning_opt_out=False\n",
    ")\n",
    "\n",
    "def getTextFromSpeech(file_name):\n",
    "    with open(file_name,'rb') as audio_file:\n",
    "        return speech_to_text.recognize(audio_file, content_type='audio/wav', timestamps=True,\n",
    "            word_confidence=True, word_alternatives_threshold=0.01, continuous=True);"
   ]
  },
  {
   "cell_type": "code",
   "execution_count": 5,
   "metadata": {
    "collapsed": false
   },
   "outputs": [
    {
     "ename": "FileNotFoundError",
     "evalue": "[Errno 2] No such file or directory: 'ffmpeg'",
     "output_type": "error",
     "traceback": [
      "\u001b[0;31m---------------------------------------------------------------------------\u001b[0m",
      "\u001b[0;31mFileNotFoundError\u001b[0m                         Traceback (most recent call last)",
      "\u001b[0;32m<ipython-input-5-4eb4ddf8df75>\u001b[0m in \u001b[0;36m<module>\u001b[0;34m()\u001b[0m\n\u001b[1;32m      1\u001b[0m \u001b[0;32mif\u001b[0m \u001b[0;34m'.wav'\u001b[0m \u001b[0;32mnot\u001b[0m \u001b[0;32min\u001b[0m \u001b[0mfile_name\u001b[0m\u001b[0;34m:\u001b[0m\u001b[0;34m\u001b[0m\u001b[0m\n\u001b[0;32m----> 2\u001b[0;31m     \u001b[0mfile_name\u001b[0m \u001b[0;34m=\u001b[0m \u001b[0msaveToWav\u001b[0m\u001b[0;34m(\u001b[0m\u001b[0mfile_name\u001b[0m\u001b[0;34m)\u001b[0m\u001b[0;34m;\u001b[0m\u001b[0;34m\u001b[0m\u001b[0m\n\u001b[0m\u001b[1;32m      3\u001b[0m \u001b[0mresult\u001b[0m \u001b[0;34m=\u001b[0m \u001b[0mgetTextFromSpeech\u001b[0m\u001b[0;34m(\u001b[0m\u001b[0mINPUT_FOLDER\u001b[0m \u001b[0;34m+\u001b[0m \u001b[0mfile_name\u001b[0m\u001b[0;34m)\u001b[0m\u001b[0;34m;\u001b[0m\u001b[0;34m\u001b[0m\u001b[0m\n",
      "\u001b[0;32m<ipython-input-3-fd57ce9b569d>\u001b[0m in \u001b[0;36msaveToWav\u001b[0;34m(file_name)\u001b[0m\n\u001b[1;32m      2\u001b[0m \u001b[0;32mdef\u001b[0m \u001b[0msaveToWav\u001b[0m\u001b[0;34m(\u001b[0m\u001b[0mfile_name\u001b[0m\u001b[0;34m)\u001b[0m\u001b[0;34m:\u001b[0m\u001b[0;34m\u001b[0m\u001b[0m\n\u001b[1;32m      3\u001b[0m     \u001b[0mk\u001b[0m \u001b[0;34m=\u001b[0m \u001b[0mfile_name\u001b[0m\u001b[0;34m.\u001b[0m\u001b[0mrfind\u001b[0m\u001b[0;34m(\u001b[0m\u001b[0;34m\".\"\u001b[0m\u001b[0;34m)\u001b[0m\u001b[0;34m;\u001b[0m \u001b[0;31m# find the last occurrence of dot\u001b[0m\u001b[0;34m\u001b[0m\u001b[0m\n\u001b[0;32m----> 4\u001b[0;31m     \u001b[0maudio\u001b[0m \u001b[0;34m=\u001b[0m \u001b[0mAudioSegment\u001b[0m\u001b[0;34m.\u001b[0m\u001b[0mfrom_file\u001b[0m\u001b[0;34m(\u001b[0m\u001b[0mINPUT_FOLDER\u001b[0m\u001b[0;34m+\u001b[0m\u001b[0mfile_name\u001b[0m\u001b[0;34m,\u001b[0m \u001b[0mfile_name\u001b[0m\u001b[0;34m[\u001b[0m\u001b[0mk\u001b[0m\u001b[0;34m+\u001b[0m\u001b[0;36m1\u001b[0m\u001b[0;34m:\u001b[0m\u001b[0;34m]\u001b[0m\u001b[0;34m)\u001b[0m\u001b[0;34m;\u001b[0m\u001b[0;34m\u001b[0m\u001b[0m\n\u001b[0m\u001b[1;32m      5\u001b[0m     \u001b[0maudio\u001b[0m\u001b[0;34m.\u001b[0m\u001b[0mexport\u001b[0m\u001b[0;34m(\u001b[0m\u001b[0mINPUT_FOLDER\u001b[0m\u001b[0;34m+\u001b[0m\u001b[0mfile_name\u001b[0m\u001b[0;34m[\u001b[0m\u001b[0;34m:\u001b[0m\u001b[0mk\u001b[0m\u001b[0;34m]\u001b[0m\u001b[0;34m+\u001b[0m\u001b[0;34m'.wav'\u001b[0m\u001b[0;34m,\u001b[0m \u001b[0mformat\u001b[0m\u001b[0;34m=\u001b[0m\u001b[0;34m'wav'\u001b[0m\u001b[0;34m)\u001b[0m\u001b[0;34m;\u001b[0m\u001b[0;34m\u001b[0m\u001b[0m\n\u001b[1;32m      6\u001b[0m     \u001b[0;32mreturn\u001b[0m \u001b[0mfile_name\u001b[0m\u001b[0;34m[\u001b[0m\u001b[0;34m:\u001b[0m\u001b[0mk\u001b[0m\u001b[0;34m]\u001b[0m\u001b[0;34m+\u001b[0m\u001b[0;34m'.wav'\u001b[0m\u001b[0;34m\u001b[0m\u001b[0m\n",
      "\u001b[0;32m//anaconda/lib/python3.5/site-packages/pydub/audio_segment.py\u001b[0m in \u001b[0;36mfrom_file\u001b[0;34m(cls, file, format, **kwargs)\u001b[0m\n\u001b[1;32m    495\u001b[0m         \u001b[0mlog_conversion\u001b[0m\u001b[0;34m(\u001b[0m\u001b[0mconversion_command\u001b[0m\u001b[0;34m)\u001b[0m\u001b[0;34m\u001b[0m\u001b[0m\n\u001b[1;32m    496\u001b[0m \u001b[0;34m\u001b[0m\u001b[0m\n\u001b[0;32m--> 497\u001b[0;31m         \u001b[0mp\u001b[0m \u001b[0;34m=\u001b[0m \u001b[0msubprocess\u001b[0m\u001b[0;34m.\u001b[0m\u001b[0mPopen\u001b[0m\u001b[0;34m(\u001b[0m\u001b[0mconversion_command\u001b[0m\u001b[0;34m,\u001b[0m \u001b[0mstdout\u001b[0m\u001b[0;34m=\u001b[0m\u001b[0msubprocess\u001b[0m\u001b[0;34m.\u001b[0m\u001b[0mPIPE\u001b[0m\u001b[0;34m,\u001b[0m \u001b[0mstderr\u001b[0m\u001b[0;34m=\u001b[0m\u001b[0msubprocess\u001b[0m\u001b[0;34m.\u001b[0m\u001b[0mPIPE\u001b[0m\u001b[0;34m)\u001b[0m\u001b[0;34m\u001b[0m\u001b[0m\n\u001b[0m\u001b[1;32m    498\u001b[0m         \u001b[0mp_out\u001b[0m\u001b[0;34m,\u001b[0m \u001b[0mp_err\u001b[0m \u001b[0;34m=\u001b[0m \u001b[0mp\u001b[0m\u001b[0;34m.\u001b[0m\u001b[0mcommunicate\u001b[0m\u001b[0;34m(\u001b[0m\u001b[0;34m)\u001b[0m\u001b[0;34m\u001b[0m\u001b[0m\n\u001b[1;32m    499\u001b[0m \u001b[0;34m\u001b[0m\u001b[0m\n",
      "\u001b[0;32m//anaconda/lib/python3.5/subprocess.py\u001b[0m in \u001b[0;36m__init__\u001b[0;34m(self, args, bufsize, executable, stdin, stdout, stderr, preexec_fn, close_fds, shell, cwd, env, universal_newlines, startupinfo, creationflags, restore_signals, start_new_session, pass_fds)\u001b[0m\n\u001b[1;32m    945\u001b[0m                                 \u001b[0mc2pread\u001b[0m\u001b[0;34m,\u001b[0m \u001b[0mc2pwrite\u001b[0m\u001b[0;34m,\u001b[0m\u001b[0;34m\u001b[0m\u001b[0m\n\u001b[1;32m    946\u001b[0m                                 \u001b[0merrread\u001b[0m\u001b[0;34m,\u001b[0m \u001b[0merrwrite\u001b[0m\u001b[0;34m,\u001b[0m\u001b[0;34m\u001b[0m\u001b[0m\n\u001b[0;32m--> 947\u001b[0;31m                                 restore_signals, start_new_session)\n\u001b[0m\u001b[1;32m    948\u001b[0m         \u001b[0;32mexcept\u001b[0m\u001b[0;34m:\u001b[0m\u001b[0;34m\u001b[0m\u001b[0m\n\u001b[1;32m    949\u001b[0m             \u001b[0;31m# Cleanup if the child failed starting.\u001b[0m\u001b[0;34m\u001b[0m\u001b[0;34m\u001b[0m\u001b[0m\n",
      "\u001b[0;32m//anaconda/lib/python3.5/subprocess.py\u001b[0m in \u001b[0;36m_execute_child\u001b[0;34m(self, args, executable, preexec_fn, close_fds, pass_fds, cwd, env, startupinfo, creationflags, shell, p2cread, p2cwrite, c2pread, c2pwrite, errread, errwrite, restore_signals, start_new_session)\u001b[0m\n\u001b[1;32m   1549\u001b[0m                             \u001b[0;32melse\u001b[0m\u001b[0;34m:\u001b[0m\u001b[0;34m\u001b[0m\u001b[0m\n\u001b[1;32m   1550\u001b[0m                                 \u001b[0merr_msg\u001b[0m \u001b[0;34m+=\u001b[0m \u001b[0;34m': '\u001b[0m \u001b[0;34m+\u001b[0m \u001b[0mrepr\u001b[0m\u001b[0;34m(\u001b[0m\u001b[0morig_executable\u001b[0m\u001b[0;34m)\u001b[0m\u001b[0;34m\u001b[0m\u001b[0m\n\u001b[0;32m-> 1551\u001b[0;31m                     \u001b[0;32mraise\u001b[0m \u001b[0mchild_exception_type\u001b[0m\u001b[0;34m(\u001b[0m\u001b[0merrno_num\u001b[0m\u001b[0;34m,\u001b[0m \u001b[0merr_msg\u001b[0m\u001b[0;34m)\u001b[0m\u001b[0;34m\u001b[0m\u001b[0m\n\u001b[0m\u001b[1;32m   1552\u001b[0m                 \u001b[0;32mraise\u001b[0m \u001b[0mchild_exception_type\u001b[0m\u001b[0;34m(\u001b[0m\u001b[0merr_msg\u001b[0m\u001b[0;34m)\u001b[0m\u001b[0;34m\u001b[0m\u001b[0m\n\u001b[1;32m   1553\u001b[0m \u001b[0;34m\u001b[0m\u001b[0m\n",
      "\u001b[0;31mFileNotFoundError\u001b[0m: [Errno 2] No such file or directory: 'ffmpeg'"
     ]
    }
   ],
   "source": [
    "if '.wav' not in file_name:\n",
    "    file_name = saveToWav(file_name);\n",
    "result = getTextFromSpeech(INPUT_FOLDER + file_name);"
   ]
  },
  {
   "cell_type": "code",
   "execution_count": null,
   "metadata": {
    "collapsed": false
   },
   "outputs": [],
   "source": [
    "result_dict = [];\n",
    "for utterance in result[\"results\"]:\n",
    "    if \"word_alternatives\" not in utterance:\n",
    "        raise Exception(\"Unknown Value Exception. No Alternatives returned\")\n",
    "    for hypothesis in utterance[\"word_alternatives\"]:\n",
    "        result_dict.append(hypothesis)\n",
    "print(result_dict)"
   ]
  },
  {
   "cell_type": "code",
   "execution_count": null,
   "metadata": {
    "collapsed": false
   },
   "outputs": [],
   "source": [
    "# print(json.dumps(result_dict,indent=2))\n",
    "res_start_time = []; res_end_time = []; res_confidence = []; res_word = [];\n",
    "for val in result_dict:\n",
    "    print(val['start_time'], '\\t', val['end_time'], '\\t', val['alternatives'][0]['word'], '\\t', val['alternatives'][0]['confidence'])\n",
    "    res_start_time.append(val['start_time']);\n",
    "    res_end_time.append(val['end_time']);\n",
    "    res_confidence.append(val['alternatives'][0]['confidence']);\n",
    "    res_word.append(val['alternatives'][0]['word']);"
   ]
  },
  {
   "cell_type": "code",
   "execution_count": null,
   "metadata": {
    "collapsed": false
   },
   "outputs": [],
   "source": [
    "IGNORE_START_WORDS = 7;\n",
    "HIGH_CONF_THRESHOLD = 0.9;\n",
    "LOW_CONF_THRESHOLD = 0.5;\n",
    "TIME_BEFORE_FIRST_WORD = 3;\n",
    "TIME_AFTER_SECOND_WORD = 1;\n",
    "BEEP = AudioSegment.from_file(INPUT_FOLDER+'beep.wav', 'wav');\n",
    "SILENCE = AudioSegment.from_file(INPUT_FOLDER+'silence.wav', 'wav');\n",
    "SILENCE = SILENCE[0:300]; # 300 ms of silence\n",
    "\n",
    "count = 1;\n",
    "i = IGNORE_START_WORDS;\n",
    "while i < len(res_end_time)-1:\n",
    "    # Check if the two consecutive words have high and low confidence and vice versa\n",
    "    if (res_confidence[i]>HIGH_CONF_THRESHOLD and res_confidence[i-1]<LOW_CONF_THRESHOLD) or (res_confidence[i-1]>HIGH_CONF_THRESHOLD and res_confidence[i]<LOW_CONF_THRESHOLD):\n",
    "        print('--', res_start_time[i-1], res_end_time[i])\n",
    "        \n",
    "        # Get the start and end time of the 5 seconds sample\n",
    "        audio_start_time = res_start_time[i-1] - TIME_BEFORE_FIRST_WORD;\n",
    "        if audio_start_time<0:\n",
    "            audio_start_time = 0;\n",
    "        audio_end_time = res_end_time[i] + TIME_AFTER_SECOND_WORD;\n",
    "        if audio_end_time>res_end_time[len(res_end_time)-1]:\n",
    "            audio_end_time = res_end_time[len(res_end_time)-1];\n",
    "        \n",
    "        # Make sure that the start and end time is not between a word\n",
    "        for j in range(0,len(res_end_time)-1):\n",
    "            if res_start_time[j+1]>audio_start_time:\n",
    "                audio_start_time = res_start_time[j];\n",
    "                break;\n",
    "        for j in range(0,len(res_end_time)):\n",
    "            if res_end_time[j]>audio_end_time:\n",
    "                audio_end_time = res_end_time[j];\n",
    "                i = j-1; # If i put i = j, then there won't be any overlap\n",
    "                break;\n",
    "        print(audio_start_time, audio_end_time)\n",
    "        \n",
    "        # Make an audio file with these time and store it as wav\n",
    "        k = file_name.rfind(\".\"); # find the last occurrence of dot\n",
    "        audio = AudioSegment.from_file(INPUT_FOLDER+file_name, file_name[k+1:]);\n",
    "        audio = audio[audio_start_time*1000:audio_end_time*1000];\n",
    "        audio.export(OUTPUT_FOLDER+file_name[:k]+'_'+str(count)+'_NO_B.wav', format='wav');\n",
    "        \n",
    "        # Make an audio file with beep and store it as wav\n",
    "        audio = AudioSegment.from_file(INPUT_FOLDER+file_name, file_name[k+1:]);\n",
    "        audio = audio[audio_start_time*1000:res_end_time[i-2]*1000] + \\\n",
    "        SILENCE + BEEP + SILENCE + \\\n",
    "        audio[res_end_time[i-2]*1000:res_start_time[i+1]*1000] + \\\n",
    "        SILENCE + BEEP + SILENCE + \\\n",
    "        audio[res_start_time[i+1]*1000:audio_end_time*1000];\n",
    "        audio.export(OUTPUT_FOLDER+file_name[:k]+'_'+str(count)+'_B.wav', format='wav');\n",
    "        \n",
    "        # Just store the two words\n",
    "        audio = AudioSegment.from_file(INPUT_FOLDER+file_name, file_name[k+1:]);\n",
    "        audio = audio[res_end_time[i-2]*1000:res_start_time[i+1]*1000];\n",
    "        audio.export(OUTPUT_FOLDER+file_name[:k]+'_'+str(count)+'_TWO.wav', format='wav');\n",
    "        \n",
    "        count = count+1;        \n",
    "    i = i+1;\n"
   ]
  },
  {
   "cell_type": "code",
   "execution_count": null,
   "metadata": {
    "collapsed": true
   },
   "outputs": [],
   "source": []
  },
  {
   "cell_type": "code",
   "execution_count": null,
   "metadata": {
    "collapsed": true
   },
   "outputs": [],
   "source": []
  }
 ],
 "metadata": {
  "anaconda-cloud": {},
  "kernelspec": {
   "display_name": "Python 3",
   "language": "python",
   "name": "python3"
  },
  "language_info": {
   "codemirror_mode": {
    "name": "ipython",
    "version": 3
   },
   "file_extension": ".py",
   "mimetype": "text/x-python",
   "name": "python",
   "nbconvert_exporter": "python",
   "pygments_lexer": "ipython3",
   "version": "3.6.0"
  }
 },
 "nbformat": 4,
 "nbformat_minor": 1
}
